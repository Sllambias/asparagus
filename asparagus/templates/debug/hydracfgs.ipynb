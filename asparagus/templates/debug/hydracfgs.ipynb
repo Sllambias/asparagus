{
 "cells": [
  {
   "cell_type": "code",
   "execution_count": 128,
   "id": "7ec05d5a",
   "metadata": {},
   "outputs": [],
   "source": [
    "import os\n",
    "from hydra import initialize, initialize_config_module, initialize_config_dir, compose\n",
    "from omegaconf import OmegaConf\n",
    "from asparagus.paths import get_config_path"
   ]
  },
  {
   "cell_type": "code",
   "execution_count": 143,
   "id": "706fdcea",
   "metadata": {},
   "outputs": [
    {
     "name": "stdout",
     "output_type": "stream",
     "text": [
      "{'_internal_': {'data_module': {'_target_': 'asparagus.modules.data_modules.${data.data_module}', 'batch_size': '${training.batch_size}', 'num_workers': '${hardware.num_workers}', 'patch_size': '${training.patch_size}'}, 'lightning_module': {'_target_': 'asparagus.modules.lightning_modules.${model.lightning_module}', 'epochs': '${training.epochs}', 'learning_rate': '${training.learning_rate}'}, 'net': {'_target_': 'asparagus.modules.networks.nets.${model.net}'}, 'trainer': {'_target_': 'lightning.Trainer', 'accelerator': '${hardware.accelerator}', 'default_root_dir': '${hydra:run.dir}', 'devices': '${hardware.num_devices}', 'enable_progress_bar': '${logging.progress_bar}', 'limit_train_batches': '${training.limit_train_batches}', 'limit_val_batches': '${training.limit_val_batches}', 'max_epochs': '${training.epochs}', 'precision': '${hardware.precision}'}, 'splits_path': '${oc.env:ASPARAGUS_DATA}/${task}/${data.splits}.json'}, 'plugins': {'seg': {'task': None, 'every_n_global_epochs': 3, 'training': {'batch_size': '${training.batch_size}', 'epochs': 10, 'patch_size': '${training.patch_size}'}, 'data': {'data_module': 'TrainDataModule', 'splits': 'split_80_20', 'data_path': '${oc.env:ASPARAGUS_DATA}/${seg.task}', 'fold': 0}, 'model': {'net': 'unet_b', 'train_n_last_params': 6, 'dimensions': '${training.patch_size|length}D'}, '_internal_': {'splits_path': '${oc.env:ASPARAGUS_DATA}/${seg.task}/${seg.data.splits}.json', 'dataset_json_path': '${oc.env:ASPARAGUS_DATA}/${seg.task}/dataset.json', 'net': {'_target_': 'asparagus.modules.networks.nets.${seg.model.net}'}, 'data_module': {'_target_': 'asparagus.modules.data_modules.${seg.data.data_module}', 'batch_size': '${seg.training.batch_size}', 'num_workers': '${hardware.num_workers}', 'patch_size': '${seg.training.patch_size}'}, 'plugin': {'_target_': 'asparagus.modules.callbacks.ssl_training.OnlineSegmentationPlugin', 'epochs': '${seg.training.epochs}', 'every_n_epochs': '${seg.every_n_global_epochs}', 'train_n_last_params': '${seg.train_n_last_params}'}}}}, 'training': {'patch_size': [32, 32], 'batch_size': 2, 'epochs': 5, 'learning_rate': 0.0001, 'limit_train_batches': 5, 'limit_val_batches': 5, 'seed': '${random:0,1000000}', 'resume_training': True}, 'task': None, 'rootcfg': 'base', 'stemcfg': None, 'data': {'data_module': 'PretrainDataModule', 'data_path': '${oc.env:ASPARAGUS_DATA}/${task}', 'splits': 'split_80_20', 'fold': 0}, 'model': {'net': 'unet_b_lw_dec', 'lightning_module': 'SelfSupervisedModule', 'dimensions': '2D', 'input_channels': 1, 'output_channels': 1}, 'hardware': {'accelerator': 'cpu', 'num_devices': 1, 'num_workers': 6, 'precision': 'bf16-mixed', 'strategy': 'auto'}, 'logging': {'progress_bar': True, 'profile': False, 'wandb_log_model': False, 'wandb_logging': True}}\n"
     ]
    }
   ],
   "source": [
    "with initialize(\n",
    "    config_path=\"../configs\",\n",
    "    version_base=\"1.2\",\n",
    "):\n",
    "    cfg = compose(config_name=\"pretrain\")\n",
    "    print(cfg)"
   ]
  },
  {
   "cell_type": "code",
   "execution_count": 144,
   "id": "4c871358",
   "metadata": {},
   "outputs": [
    {
     "name": "stdout",
     "output_type": "stream",
     "text": [
      "_internal_:\n",
      "  data_module:\n",
      "    _target_: asparagus.modules.data_modules.${data.data_module}\n",
      "    batch_size: ${training.batch_size}\n",
      "    num_workers: ${hardware.num_workers}\n",
      "    patch_size: ${training.patch_size}\n",
      "  lightning_module:\n",
      "    _target_: asparagus.modules.lightning_modules.${model.lightning_module}\n",
      "    epochs: ${training.epochs}\n",
      "    learning_rate: ${training.learning_rate}\n",
      "  net:\n",
      "    _target_: asparagus.modules.networks.nets.${model.net}\n",
      "  trainer:\n",
      "    _target_: lightning.Trainer\n",
      "    accelerator: ${hardware.accelerator}\n",
      "    default_root_dir: ${hydra:run.dir}\n",
      "    devices: ${hardware.num_devices}\n",
      "    enable_progress_bar: ${logging.progress_bar}\n",
      "    limit_train_batches: ${training.limit_train_batches}\n",
      "    limit_val_batches: ${training.limit_val_batches}\n",
      "    max_epochs: ${training.epochs}\n",
      "    precision: ${hardware.precision}\n",
      "  splits_path: ${oc.env:ASPARAGUS_DATA}/${task}/${data.splits}.json\n",
      "plugins:\n",
      "  seg:\n",
      "    task: null\n",
      "    every_n_global_epochs: 3\n",
      "    training:\n",
      "      batch_size: ${training.batch_size}\n",
      "      epochs: 10\n",
      "      patch_size: ${training.patch_size}\n",
      "    data:\n",
      "      data_module: TrainDataModule\n",
      "      splits: split_80_20\n",
      "      data_path: ${oc.env:ASPARAGUS_DATA}/${seg.task}\n",
      "      fold: 0\n",
      "    model:\n",
      "      net: unet_b\n",
      "      train_n_last_params: 6\n",
      "      dimensions: ${training.patch_size|length}D\n",
      "    _internal_:\n",
      "      splits_path: ${oc.env:ASPARAGUS_DATA}/${seg.task}/${seg.data.splits}.json\n",
      "      dataset_json_path: ${oc.env:ASPARAGUS_DATA}/${seg.task}/dataset.json\n",
      "      net:\n",
      "        _target_: asparagus.modules.networks.nets.${seg.model.net}\n",
      "      data_module:\n",
      "        _target_: asparagus.modules.data_modules.${seg.data.data_module}\n",
      "        batch_size: ${seg.training.batch_size}\n",
      "        num_workers: ${hardware.num_workers}\n",
      "        patch_size: ${seg.training.patch_size}\n",
      "      plugin:\n",
      "        _target_: asparagus.modules.callbacks.ssl_training.OnlineSegmentationPlugin\n",
      "        epochs: ${seg.training.epochs}\n",
      "        every_n_epochs: ${seg.every_n_global_epochs}\n",
      "        train_n_last_params: ${seg.train_n_last_params}\n",
      "training:\n",
      "  patch_size:\n",
      "  - 32\n",
      "  - 32\n",
      "  batch_size: 2\n",
      "  epochs: 5\n",
      "  learning_rate: 0.0001\n",
      "  limit_train_batches: 5\n",
      "  limit_val_batches: 5\n",
      "  seed: ${random:0,1000000}\n",
      "  resume_training: true\n",
      "task: null\n",
      "rootcfg: base\n",
      "stemcfg: null\n",
      "data:\n",
      "  data_module: PretrainDataModule\n",
      "  data_path: ${oc.env:ASPARAGUS_DATA}/${task}\n",
      "  splits: split_80_20\n",
      "  fold: 0\n",
      "model:\n",
      "  net: unet_b_lw_dec\n",
      "  lightning_module: SelfSupervisedModule\n",
      "  dimensions: 2D\n",
      "  input_channels: 1\n",
      "  output_channels: 1\n",
      "hardware:\n",
      "  accelerator: cpu\n",
      "  num_devices: 1\n",
      "  num_workers: 6\n",
      "  precision: bf16-mixed\n",
      "  strategy: auto\n",
      "logging:\n",
      "  progress_bar: true\n",
      "  profile: false\n",
      "  wandb_log_model: false\n",
      "  wandb_logging: true\n",
      "\n"
     ]
    }
   ],
   "source": [
    "print(OmegaConf.to_yaml(cfg))"
   ]
  },
  {
   "cell_type": "code",
   "execution_count": 121,
   "id": "537f87c7",
   "metadata": {},
   "outputs": [
    {
     "ename": "InterpolationKeyError",
     "evalue": "Interpolation key 'training.patch_size|length' not found\n    full_key: plugins.seg.model.dimensions\n    object_type=dict",
     "output_type": "error",
     "traceback": [
      "\u001b[31m---------------------------------------------------------------------------\u001b[39m",
      "\u001b[31mInterpolationKeyError\u001b[39m                     Traceback (most recent call last)",
      "\u001b[36mCell\u001b[39m\u001b[36m \u001b[39m\u001b[32mIn[121]\u001b[39m\u001b[32m, line 1\u001b[39m\n\u001b[32m----> \u001b[39m\u001b[32m1\u001b[39m \u001b[43mcfg\u001b[49m\u001b[43m.\u001b[49m\u001b[43mplugins\u001b[49m\u001b[43m.\u001b[49m\u001b[43mseg\u001b[49m\u001b[43m.\u001b[49m\u001b[43mmodel\u001b[49m\u001b[43m.\u001b[49m\u001b[43mdimensions\u001b[49m\n",
      "\u001b[36mFile \u001b[39m\u001b[32m~/miniconda3/envs/asparagus/lib/python3.12/site-packages/omegaconf/dictconfig.py:359\u001b[39m, in \u001b[36mDictConfig.__getattr__\u001b[39m\u001b[34m(self, key)\u001b[39m\n\u001b[32m    355\u001b[39m     \u001b[38;5;28mself\u001b[39m._format_and_raise(\n\u001b[32m    356\u001b[39m         key=key, value=\u001b[38;5;28;01mNone\u001b[39;00m, cause=e, type_override=ConfigAttributeError\n\u001b[32m    357\u001b[39m     )\n\u001b[32m    358\u001b[39m \u001b[38;5;28;01mexcept\u001b[39;00m \u001b[38;5;167;01mException\u001b[39;00m \u001b[38;5;28;01mas\u001b[39;00m e:\n\u001b[32m--> \u001b[39m\u001b[32m359\u001b[39m     \u001b[38;5;28;43mself\u001b[39;49m\u001b[43m.\u001b[49m\u001b[43m_format_and_raise\u001b[49m\u001b[43m(\u001b[49m\u001b[43mkey\u001b[49m\u001b[43m=\u001b[49m\u001b[43mkey\u001b[49m\u001b[43m,\u001b[49m\u001b[43m \u001b[49m\u001b[43mvalue\u001b[49m\u001b[43m=\u001b[49m\u001b[38;5;28;43;01mNone\u001b[39;49;00m\u001b[43m,\u001b[49m\u001b[43m \u001b[49m\u001b[43mcause\u001b[49m\u001b[43m=\u001b[49m\u001b[43me\u001b[49m\u001b[43m)\u001b[49m\n",
      "\u001b[36mFile \u001b[39m\u001b[32m~/miniconda3/envs/asparagus/lib/python3.12/site-packages/omegaconf/base.py:231\u001b[39m, in \u001b[36mNode._format_and_raise\u001b[39m\u001b[34m(self, key, value, cause, msg, type_override)\u001b[39m\n\u001b[32m    223\u001b[39m \u001b[38;5;28;01mdef\u001b[39;00m\u001b[38;5;250m \u001b[39m\u001b[34m_format_and_raise\u001b[39m(\n\u001b[32m    224\u001b[39m     \u001b[38;5;28mself\u001b[39m,\n\u001b[32m    225\u001b[39m     key: Any,\n\u001b[32m   (...)\u001b[39m\u001b[32m    229\u001b[39m     type_override: Any = \u001b[38;5;28;01mNone\u001b[39;00m,\n\u001b[32m    230\u001b[39m ) -> \u001b[38;5;28;01mNone\u001b[39;00m:\n\u001b[32m--> \u001b[39m\u001b[32m231\u001b[39m     \u001b[43mformat_and_raise\u001b[49m\u001b[43m(\u001b[49m\n\u001b[32m    232\u001b[39m \u001b[43m        \u001b[49m\u001b[43mnode\u001b[49m\u001b[43m=\u001b[49m\u001b[38;5;28;43mself\u001b[39;49m\u001b[43m,\u001b[49m\n\u001b[32m    233\u001b[39m \u001b[43m        \u001b[49m\u001b[43mkey\u001b[49m\u001b[43m=\u001b[49m\u001b[43mkey\u001b[49m\u001b[43m,\u001b[49m\n\u001b[32m    234\u001b[39m \u001b[43m        \u001b[49m\u001b[43mvalue\u001b[49m\u001b[43m=\u001b[49m\u001b[43mvalue\u001b[49m\u001b[43m,\u001b[49m\n\u001b[32m    235\u001b[39m \u001b[43m        \u001b[49m\u001b[43mmsg\u001b[49m\u001b[43m=\u001b[49m\u001b[38;5;28;43mstr\u001b[39;49m\u001b[43m(\u001b[49m\u001b[43mcause\u001b[49m\u001b[43m)\u001b[49m\u001b[43m \u001b[49m\u001b[38;5;28;43;01mif\u001b[39;49;00m\u001b[43m \u001b[49m\u001b[43mmsg\u001b[49m\u001b[43m \u001b[49m\u001b[38;5;129;43;01mis\u001b[39;49;00m\u001b[43m \u001b[49m\u001b[38;5;28;43;01mNone\u001b[39;49;00m\u001b[43m \u001b[49m\u001b[38;5;28;43;01melse\u001b[39;49;00m\u001b[43m \u001b[49m\u001b[43mmsg\u001b[49m\u001b[43m,\u001b[49m\n\u001b[32m    236\u001b[39m \u001b[43m        \u001b[49m\u001b[43mcause\u001b[49m\u001b[43m=\u001b[49m\u001b[43mcause\u001b[49m\u001b[43m,\u001b[49m\n\u001b[32m    237\u001b[39m \u001b[43m        \u001b[49m\u001b[43mtype_override\u001b[49m\u001b[43m=\u001b[49m\u001b[43mtype_override\u001b[49m\u001b[43m,\u001b[49m\n\u001b[32m    238\u001b[39m \u001b[43m    \u001b[49m\u001b[43m)\u001b[49m\n\u001b[32m    239\u001b[39m     \u001b[38;5;28;01massert\u001b[39;00m \u001b[38;5;28;01mFalse\u001b[39;00m\n",
      "\u001b[36mFile \u001b[39m\u001b[32m~/miniconda3/envs/asparagus/lib/python3.12/site-packages/omegaconf/_utils.py:899\u001b[39m, in \u001b[36mformat_and_raise\u001b[39m\u001b[34m(node, key, value, msg, cause, type_override)\u001b[39m\n\u001b[32m    896\u001b[39m     ex.ref_type = ref_type\n\u001b[32m    897\u001b[39m     ex.ref_type_str = ref_type_str\n\u001b[32m--> \u001b[39m\u001b[32m899\u001b[39m \u001b[43m_raise\u001b[49m\u001b[43m(\u001b[49m\u001b[43mex\u001b[49m\u001b[43m,\u001b[49m\u001b[43m \u001b[49m\u001b[43mcause\u001b[49m\u001b[43m)\u001b[49m\n",
      "\u001b[36mFile \u001b[39m\u001b[32m~/miniconda3/envs/asparagus/lib/python3.12/site-packages/omegaconf/_utils.py:797\u001b[39m, in \u001b[36m_raise\u001b[39m\u001b[34m(ex, cause)\u001b[39m\n\u001b[32m    795\u001b[39m \u001b[38;5;28;01melse\u001b[39;00m:\n\u001b[32m    796\u001b[39m     ex.__cause__ = \u001b[38;5;28;01mNone\u001b[39;00m\n\u001b[32m--> \u001b[39m\u001b[32m797\u001b[39m \u001b[38;5;28;01mraise\u001b[39;00m ex.with_traceback(sys.exc_info()[\u001b[32m2\u001b[39m])\n",
      "\u001b[36mFile \u001b[39m\u001b[32m~/miniconda3/envs/asparagus/lib/python3.12/site-packages/omegaconf/dictconfig.py:351\u001b[39m, in \u001b[36mDictConfig.__getattr__\u001b[39m\u001b[34m(self, key)\u001b[39m\n\u001b[32m    348\u001b[39m     \u001b[38;5;28;01mraise\u001b[39;00m \u001b[38;5;167;01mAttributeError\u001b[39;00m()\n\u001b[32m    350\u001b[39m \u001b[38;5;28;01mtry\u001b[39;00m:\n\u001b[32m--> \u001b[39m\u001b[32m351\u001b[39m     \u001b[38;5;28;01mreturn\u001b[39;00m \u001b[38;5;28;43mself\u001b[39;49m\u001b[43m.\u001b[49m\u001b[43m_get_impl\u001b[49m\u001b[43m(\u001b[49m\n\u001b[32m    352\u001b[39m \u001b[43m        \u001b[49m\u001b[43mkey\u001b[49m\u001b[43m=\u001b[49m\u001b[43mkey\u001b[49m\u001b[43m,\u001b[49m\u001b[43m \u001b[49m\u001b[43mdefault_value\u001b[49m\u001b[43m=\u001b[49m\u001b[43m_DEFAULT_MARKER_\u001b[49m\u001b[43m,\u001b[49m\u001b[43m \u001b[49m\u001b[43mvalidate_key\u001b[49m\u001b[43m=\u001b[49m\u001b[38;5;28;43;01mFalse\u001b[39;49;00m\n\u001b[32m    353\u001b[39m \u001b[43m    \u001b[49m\u001b[43m)\u001b[49m\n\u001b[32m    354\u001b[39m \u001b[38;5;28;01mexcept\u001b[39;00m ConfigKeyError \u001b[38;5;28;01mas\u001b[39;00m e:\n\u001b[32m    355\u001b[39m     \u001b[38;5;28mself\u001b[39m._format_and_raise(\n\u001b[32m    356\u001b[39m         key=key, value=\u001b[38;5;28;01mNone\u001b[39;00m, cause=e, type_override=ConfigAttributeError\n\u001b[32m    357\u001b[39m     )\n",
      "\u001b[36mFile \u001b[39m\u001b[32m~/miniconda3/envs/asparagus/lib/python3.12/site-packages/omegaconf/dictconfig.py:451\u001b[39m, in \u001b[36mDictConfig._get_impl\u001b[39m\u001b[34m(self, key, default_value, validate_key)\u001b[39m\n\u001b[32m    449\u001b[39m         \u001b[38;5;28;01mraise\u001b[39;00m\n\u001b[32m    450\u001b[39m \u001b[38;5;28;01massert\u001b[39;00m \u001b[38;5;28misinstance\u001b[39m(node, Node)\n\u001b[32m--> \u001b[39m\u001b[32m451\u001b[39m \u001b[38;5;28;01mreturn\u001b[39;00m \u001b[38;5;28;43mself\u001b[39;49m\u001b[43m.\u001b[49m\u001b[43m_resolve_with_default\u001b[49m\u001b[43m(\u001b[49m\n\u001b[32m    452\u001b[39m \u001b[43m    \u001b[49m\u001b[43mkey\u001b[49m\u001b[43m=\u001b[49m\u001b[43mkey\u001b[49m\u001b[43m,\u001b[49m\u001b[43m \u001b[49m\u001b[43mvalue\u001b[49m\u001b[43m=\u001b[49m\u001b[43mnode\u001b[49m\u001b[43m,\u001b[49m\u001b[43m \u001b[49m\u001b[43mdefault_value\u001b[49m\u001b[43m=\u001b[49m\u001b[43mdefault_value\u001b[49m\n\u001b[32m    453\u001b[39m \u001b[43m\u001b[49m\u001b[43m)\u001b[49m\n",
      "\u001b[36mFile \u001b[39m\u001b[32m~/miniconda3/envs/asparagus/lib/python3.12/site-packages/omegaconf/basecontainer.py:98\u001b[39m, in \u001b[36mBaseContainer._resolve_with_default\u001b[39m\u001b[34m(self, key, value, default_value)\u001b[39m\n\u001b[32m     95\u001b[39m         \u001b[38;5;28;01mreturn\u001b[39;00m default_value\n\u001b[32m     96\u001b[39m     \u001b[38;5;28;01mraise\u001b[39;00m MissingMandatoryValue(\u001b[33m\"\u001b[39m\u001b[33mMissing mandatory value: $FULL_KEY\u001b[39m\u001b[33m\"\u001b[39m)\n\u001b[32m---> \u001b[39m\u001b[32m98\u001b[39m resolved_node = \u001b[38;5;28;43mself\u001b[39;49m\u001b[43m.\u001b[49m\u001b[43m_maybe_resolve_interpolation\u001b[49m\u001b[43m(\u001b[49m\n\u001b[32m     99\u001b[39m \u001b[43m    \u001b[49m\u001b[43mparent\u001b[49m\u001b[43m=\u001b[49m\u001b[38;5;28;43mself\u001b[39;49m\u001b[43m,\u001b[49m\n\u001b[32m    100\u001b[39m \u001b[43m    \u001b[49m\u001b[43mkey\u001b[49m\u001b[43m=\u001b[49m\u001b[43mkey\u001b[49m\u001b[43m,\u001b[49m\n\u001b[32m    101\u001b[39m \u001b[43m    \u001b[49m\u001b[43mvalue\u001b[49m\u001b[43m=\u001b[49m\u001b[43mvalue\u001b[49m\u001b[43m,\u001b[49m\n\u001b[32m    102\u001b[39m \u001b[43m    \u001b[49m\u001b[43mthrow_on_resolution_failure\u001b[49m\u001b[43m=\u001b[49m\u001b[38;5;28;43;01mTrue\u001b[39;49;00m\u001b[43m,\u001b[49m\n\u001b[32m    103\u001b[39m \u001b[43m\u001b[49m\u001b[43m)\u001b[49m\n\u001b[32m    105\u001b[39m \u001b[38;5;28;01mreturn\u001b[39;00m _get_value(resolved_node)\n",
      "\u001b[36mFile \u001b[39m\u001b[32m~/miniconda3/envs/asparagus/lib/python3.12/site-packages/omegaconf/base.py:719\u001b[39m, in \u001b[36mContainer._maybe_resolve_interpolation\u001b[39m\u001b[34m(self, parent, key, value, throw_on_resolution_failure, memo)\u001b[39m\n\u001b[32m    716\u001b[39m     \u001b[38;5;28;01mreturn\u001b[39;00m value\n\u001b[32m    718\u001b[39m parse_tree = parse(_get_value(value))\n\u001b[32m--> \u001b[39m\u001b[32m719\u001b[39m \u001b[38;5;28;01mreturn\u001b[39;00m \u001b[38;5;28;43mself\u001b[39;49m\u001b[43m.\u001b[49m\u001b[43m_resolve_interpolation_from_parse_tree\u001b[49m\u001b[43m(\u001b[49m\n\u001b[32m    720\u001b[39m \u001b[43m    \u001b[49m\u001b[43mparent\u001b[49m\u001b[43m=\u001b[49m\u001b[43mparent\u001b[49m\u001b[43m,\u001b[49m\n\u001b[32m    721\u001b[39m \u001b[43m    \u001b[49m\u001b[43mvalue\u001b[49m\u001b[43m=\u001b[49m\u001b[43mvalue\u001b[49m\u001b[43m,\u001b[49m\n\u001b[32m    722\u001b[39m \u001b[43m    \u001b[49m\u001b[43mkey\u001b[49m\u001b[43m=\u001b[49m\u001b[43mkey\u001b[49m\u001b[43m,\u001b[49m\n\u001b[32m    723\u001b[39m \u001b[43m    \u001b[49m\u001b[43mparse_tree\u001b[49m\u001b[43m=\u001b[49m\u001b[43mparse_tree\u001b[49m\u001b[43m,\u001b[49m\n\u001b[32m    724\u001b[39m \u001b[43m    \u001b[49m\u001b[43mthrow_on_resolution_failure\u001b[49m\u001b[43m=\u001b[49m\u001b[43mthrow_on_resolution_failure\u001b[49m\u001b[43m,\u001b[49m\n\u001b[32m    725\u001b[39m \u001b[43m    \u001b[49m\u001b[43mmemo\u001b[49m\u001b[43m=\u001b[49m\u001b[43mmemo\u001b[49m\u001b[43m \u001b[49m\u001b[38;5;28;43;01mif\u001b[39;49;00m\u001b[43m \u001b[49m\u001b[43mmemo\u001b[49m\u001b[43m \u001b[49m\u001b[38;5;129;43;01mis\u001b[39;49;00m\u001b[43m \u001b[49m\u001b[38;5;129;43;01mnot\u001b[39;49;00m\u001b[43m \u001b[49m\u001b[38;5;28;43;01mNone\u001b[39;49;00m\u001b[43m \u001b[49m\u001b[38;5;28;43;01melse\u001b[39;49;00m\u001b[43m \u001b[49m\u001b[38;5;28;43mset\u001b[39;49m\u001b[43m(\u001b[49m\u001b[43m)\u001b[49m\u001b[43m,\u001b[49m\n\u001b[32m    726\u001b[39m \u001b[43m\u001b[49m\u001b[43m)\u001b[49m\n",
      "\u001b[36mFile \u001b[39m\u001b[32m~/miniconda3/envs/asparagus/lib/python3.12/site-packages/omegaconf/base.py:584\u001b[39m, in \u001b[36mContainer._resolve_interpolation_from_parse_tree\u001b[39m\u001b[34m(self, parent, value, key, parse_tree, throw_on_resolution_failure, memo)\u001b[39m\n\u001b[32m    554\u001b[39m \u001b[38;5;250m\u001b[39m\u001b[33;03m\"\"\"\u001b[39;00m\n\u001b[32m    555\u001b[39m \u001b[33;03mResolve an interpolation.\u001b[39;00m\n\u001b[32m    556\u001b[39m \n\u001b[32m   (...)\u001b[39m\u001b[32m    580\u001b[39m \u001b[33;03m    `throw_on_resolution_failure` is `False` and an error occurs during resolution.\u001b[39;00m\n\u001b[32m    581\u001b[39m \u001b[33;03m\"\"\"\u001b[39;00m\n\u001b[32m    583\u001b[39m \u001b[38;5;28;01mtry\u001b[39;00m:\n\u001b[32m--> \u001b[39m\u001b[32m584\u001b[39m     resolved = \u001b[38;5;28;43mself\u001b[39;49m\u001b[43m.\u001b[49m\u001b[43mresolve_parse_tree\u001b[49m\u001b[43m(\u001b[49m\n\u001b[32m    585\u001b[39m \u001b[43m        \u001b[49m\u001b[43mparse_tree\u001b[49m\u001b[43m=\u001b[49m\u001b[43mparse_tree\u001b[49m\u001b[43m,\u001b[49m\u001b[43m \u001b[49m\u001b[43mnode\u001b[49m\u001b[43m=\u001b[49m\u001b[43mvalue\u001b[49m\u001b[43m,\u001b[49m\u001b[43m \u001b[49m\u001b[43mkey\u001b[49m\u001b[43m=\u001b[49m\u001b[43mkey\u001b[49m\u001b[43m,\u001b[49m\u001b[43m \u001b[49m\u001b[43mmemo\u001b[49m\u001b[43m=\u001b[49m\u001b[43mmemo\u001b[49m\n\u001b[32m    586\u001b[39m \u001b[43m    \u001b[49m\u001b[43m)\u001b[49m\n\u001b[32m    587\u001b[39m \u001b[38;5;28;01mexcept\u001b[39;00m InterpolationResolutionError:\n\u001b[32m    588\u001b[39m     \u001b[38;5;28;01mif\u001b[39;00m throw_on_resolution_failure:\n",
      "\u001b[36mFile \u001b[39m\u001b[32m~/miniconda3/envs/asparagus/lib/python3.12/site-packages/omegaconf/base.py:764\u001b[39m, in \u001b[36mContainer.resolve_parse_tree\u001b[39m\u001b[34m(self, parse_tree, node, memo, key)\u001b[39m\n\u001b[32m    758\u001b[39m visitor = GrammarVisitor(\n\u001b[32m    759\u001b[39m     node_interpolation_callback=node_interpolation_callback,\n\u001b[32m    760\u001b[39m     resolver_interpolation_callback=resolver_interpolation_callback,\n\u001b[32m    761\u001b[39m     memo=memo,\n\u001b[32m    762\u001b[39m )\n\u001b[32m    763\u001b[39m \u001b[38;5;28;01mtry\u001b[39;00m:\n\u001b[32m--> \u001b[39m\u001b[32m764\u001b[39m     \u001b[38;5;28;01mreturn\u001b[39;00m \u001b[43mvisitor\u001b[49m\u001b[43m.\u001b[49m\u001b[43mvisit\u001b[49m\u001b[43m(\u001b[49m\u001b[43mparse_tree\u001b[49m\u001b[43m)\u001b[49m\n\u001b[32m    765\u001b[39m \u001b[38;5;28;01mexcept\u001b[39;00m InterpolationResolutionError:\n\u001b[32m    766\u001b[39m     \u001b[38;5;28;01mraise\u001b[39;00m\n",
      "\u001b[36mFile \u001b[39m\u001b[32m~/miniconda3/envs/asparagus/lib/python3.12/site-packages/antlr4/tree/Tree.py:34\u001b[39m, in \u001b[36mParseTreeVisitor.visit\u001b[39m\u001b[34m(self, tree)\u001b[39m\n\u001b[32m     33\u001b[39m \u001b[38;5;28;01mdef\u001b[39;00m\u001b[38;5;250m \u001b[39m\u001b[34mvisit\u001b[39m(\u001b[38;5;28mself\u001b[39m, tree):\n\u001b[32m---> \u001b[39m\u001b[32m34\u001b[39m     \u001b[38;5;28;01mreturn\u001b[39;00m \u001b[43mtree\u001b[49m\u001b[43m.\u001b[49m\u001b[43maccept\u001b[49m\u001b[43m(\u001b[49m\u001b[38;5;28;43mself\u001b[39;49m\u001b[43m)\u001b[49m\n",
      "\u001b[36mFile \u001b[39m\u001b[32m~/miniconda3/envs/asparagus/lib/python3.12/site-packages/omegaconf/grammar/gen/OmegaConfGrammarParser.py:206\u001b[39m, in \u001b[36mOmegaConfGrammarParser.ConfigValueContext.accept\u001b[39m\u001b[34m(self, visitor)\u001b[39m\n\u001b[32m    204\u001b[39m \u001b[38;5;28;01mdef\u001b[39;00m\u001b[38;5;250m \u001b[39m\u001b[34maccept\u001b[39m(\u001b[38;5;28mself\u001b[39m, visitor:ParseTreeVisitor):\n\u001b[32m    205\u001b[39m     \u001b[38;5;28;01mif\u001b[39;00m \u001b[38;5;28mhasattr\u001b[39m( visitor, \u001b[33m\"\u001b[39m\u001b[33mvisitConfigValue\u001b[39m\u001b[33m\"\u001b[39m ):\n\u001b[32m--> \u001b[39m\u001b[32m206\u001b[39m         \u001b[38;5;28;01mreturn\u001b[39;00m \u001b[43mvisitor\u001b[49m\u001b[43m.\u001b[49m\u001b[43mvisitConfigValue\u001b[49m\u001b[43m(\u001b[49m\u001b[38;5;28;43mself\u001b[39;49m\u001b[43m)\u001b[49m\n\u001b[32m    207\u001b[39m     \u001b[38;5;28;01melse\u001b[39;00m:\n\u001b[32m    208\u001b[39m         \u001b[38;5;28;01mreturn\u001b[39;00m visitor.visitChildren(\u001b[38;5;28mself\u001b[39m)\n",
      "\u001b[36mFile \u001b[39m\u001b[32m~/miniconda3/envs/asparagus/lib/python3.12/site-packages/omegaconf/grammar_visitor.py:101\u001b[39m, in \u001b[36mGrammarVisitor.visitConfigValue\u001b[39m\u001b[34m(self, ctx)\u001b[39m\n\u001b[32m     98\u001b[39m \u001b[38;5;28;01mdef\u001b[39;00m\u001b[38;5;250m \u001b[39m\u001b[34mvisitConfigValue\u001b[39m(\u001b[38;5;28mself\u001b[39m, ctx: OmegaConfGrammarParser.ConfigValueContext) -> Any:\n\u001b[32m     99\u001b[39m     \u001b[38;5;66;03m# text EOF\u001b[39;00m\n\u001b[32m    100\u001b[39m     \u001b[38;5;28;01massert\u001b[39;00m ctx.getChildCount() == \u001b[32m2\u001b[39m\n\u001b[32m--> \u001b[39m\u001b[32m101\u001b[39m     \u001b[38;5;28;01mreturn\u001b[39;00m \u001b[38;5;28;43mself\u001b[39;49m\u001b[43m.\u001b[49m\u001b[43mvisit\u001b[49m\u001b[43m(\u001b[49m\u001b[43mctx\u001b[49m\u001b[43m.\u001b[49m\u001b[43mgetChild\u001b[49m\u001b[43m(\u001b[49m\u001b[32;43m0\u001b[39;49m\u001b[43m)\u001b[49m\u001b[43m)\u001b[49m\n",
      "\u001b[36mFile \u001b[39m\u001b[32m~/miniconda3/envs/asparagus/lib/python3.12/site-packages/antlr4/tree/Tree.py:34\u001b[39m, in \u001b[36mParseTreeVisitor.visit\u001b[39m\u001b[34m(self, tree)\u001b[39m\n\u001b[32m     33\u001b[39m \u001b[38;5;28;01mdef\u001b[39;00m\u001b[38;5;250m \u001b[39m\u001b[34mvisit\u001b[39m(\u001b[38;5;28mself\u001b[39m, tree):\n\u001b[32m---> \u001b[39m\u001b[32m34\u001b[39m     \u001b[38;5;28;01mreturn\u001b[39;00m \u001b[43mtree\u001b[49m\u001b[43m.\u001b[49m\u001b[43maccept\u001b[49m\u001b[43m(\u001b[49m\u001b[38;5;28;43mself\u001b[39;49m\u001b[43m)\u001b[49m\n",
      "\u001b[36mFile \u001b[39m\u001b[32m~/miniconda3/envs/asparagus/lib/python3.12/site-packages/omegaconf/grammar/gen/OmegaConfGrammarParser.py:342\u001b[39m, in \u001b[36mOmegaConfGrammarParser.TextContext.accept\u001b[39m\u001b[34m(self, visitor)\u001b[39m\n\u001b[32m    340\u001b[39m \u001b[38;5;28;01mdef\u001b[39;00m\u001b[38;5;250m \u001b[39m\u001b[34maccept\u001b[39m(\u001b[38;5;28mself\u001b[39m, visitor:ParseTreeVisitor):\n\u001b[32m    341\u001b[39m     \u001b[38;5;28;01mif\u001b[39;00m \u001b[38;5;28mhasattr\u001b[39m( visitor, \u001b[33m\"\u001b[39m\u001b[33mvisitText\u001b[39m\u001b[33m\"\u001b[39m ):\n\u001b[32m--> \u001b[39m\u001b[32m342\u001b[39m         \u001b[38;5;28;01mreturn\u001b[39;00m \u001b[43mvisitor\u001b[49m\u001b[43m.\u001b[49m\u001b[43mvisitText\u001b[49m\u001b[43m(\u001b[49m\u001b[38;5;28;43mself\u001b[39;49m\u001b[43m)\u001b[49m\n\u001b[32m    343\u001b[39m     \u001b[38;5;28;01melse\u001b[39;00m:\n\u001b[32m    344\u001b[39m         \u001b[38;5;28;01mreturn\u001b[39;00m visitor.visitChildren(\u001b[38;5;28mself\u001b[39m)\n",
      "\u001b[36mFile \u001b[39m\u001b[32m~/miniconda3/envs/asparagus/lib/python3.12/site-packages/omegaconf/grammar_visitor.py:301\u001b[39m, in \u001b[36mGrammarVisitor.visitText\u001b[39m\u001b[34m(self, ctx)\u001b[39m\n\u001b[32m    298\u001b[39m         \u001b[38;5;28;01mreturn\u001b[39;00m \u001b[38;5;28mself\u001b[39m.visitInterpolation(c)\n\u001b[32m    300\u001b[39m \u001b[38;5;66;03m# Otherwise, concatenate string representations together.\u001b[39;00m\n\u001b[32m--> \u001b[39m\u001b[32m301\u001b[39m \u001b[38;5;28;01mreturn\u001b[39;00m \u001b[38;5;28;43mself\u001b[39;49m\u001b[43m.\u001b[49m\u001b[43m_unescape\u001b[49m\u001b[43m(\u001b[49m\u001b[38;5;28;43mlist\u001b[39;49m\u001b[43m(\u001b[49m\u001b[43mctx\u001b[49m\u001b[43m.\u001b[49m\u001b[43mgetChildren\u001b[49m\u001b[43m(\u001b[49m\u001b[43m)\u001b[49m\u001b[43m)\u001b[49m\u001b[43m)\u001b[49m\n",
      "\u001b[36mFile \u001b[39m\u001b[32m~/miniconda3/envs/asparagus/lib/python3.12/site-packages/omegaconf/grammar_visitor.py:389\u001b[39m, in \u001b[36mGrammarVisitor._unescape\u001b[39m\u001b[34m(self, seq)\u001b[39m\n\u001b[32m    387\u001b[39m     \u001b[38;5;28;01melse\u001b[39;00m:\n\u001b[32m    388\u001b[39m         \u001b[38;5;28;01massert\u001b[39;00m \u001b[38;5;28misinstance\u001b[39m(node, OmegaConfGrammarParser.InterpolationContext)\n\u001b[32m--> \u001b[39m\u001b[32m389\u001b[39m         text = \u001b[38;5;28mstr\u001b[39m(\u001b[38;5;28;43mself\u001b[39;49m\u001b[43m.\u001b[49m\u001b[43mvisitInterpolation\u001b[49m\u001b[43m(\u001b[49m\u001b[43mnode\u001b[49m\u001b[43m)\u001b[49m)\n\u001b[32m    390\u001b[39m     chrs.append(text)\n\u001b[32m    392\u001b[39m \u001b[38;5;28;01mreturn\u001b[39;00m \u001b[33m\"\u001b[39m\u001b[33m\"\u001b[39m.join(chrs)\n",
      "\u001b[36mFile \u001b[39m\u001b[32m~/miniconda3/envs/asparagus/lib/python3.12/site-packages/omegaconf/grammar_visitor.py:125\u001b[39m, in \u001b[36mGrammarVisitor.visitInterpolation\u001b[39m\u001b[34m(self, ctx)\u001b[39m\n\u001b[32m    121\u001b[39m \u001b[38;5;28;01mdef\u001b[39;00m\u001b[38;5;250m \u001b[39m\u001b[34mvisitInterpolation\u001b[39m(\n\u001b[32m    122\u001b[39m     \u001b[38;5;28mself\u001b[39m, ctx: OmegaConfGrammarParser.InterpolationContext\n\u001b[32m    123\u001b[39m ) -> Any:\n\u001b[32m    124\u001b[39m     \u001b[38;5;28;01massert\u001b[39;00m ctx.getChildCount() == \u001b[32m1\u001b[39m  \u001b[38;5;66;03m# interpolationNode | interpolationResolver\u001b[39;00m\n\u001b[32m--> \u001b[39m\u001b[32m125\u001b[39m     \u001b[38;5;28;01mreturn\u001b[39;00m \u001b[38;5;28;43mself\u001b[39;49m\u001b[43m.\u001b[49m\u001b[43mvisit\u001b[49m\u001b[43m(\u001b[49m\u001b[43mctx\u001b[49m\u001b[43m.\u001b[49m\u001b[43mgetChild\u001b[49m\u001b[43m(\u001b[49m\u001b[32;43m0\u001b[39;49m\u001b[43m)\u001b[49m\u001b[43m)\u001b[49m\n",
      "\u001b[36mFile \u001b[39m\u001b[32m~/miniconda3/envs/asparagus/lib/python3.12/site-packages/antlr4/tree/Tree.py:34\u001b[39m, in \u001b[36mParseTreeVisitor.visit\u001b[39m\u001b[34m(self, tree)\u001b[39m\n\u001b[32m     33\u001b[39m \u001b[38;5;28;01mdef\u001b[39;00m\u001b[38;5;250m \u001b[39m\u001b[34mvisit\u001b[39m(\u001b[38;5;28mself\u001b[39m, tree):\n\u001b[32m---> \u001b[39m\u001b[32m34\u001b[39m     \u001b[38;5;28;01mreturn\u001b[39;00m \u001b[43mtree\u001b[49m\u001b[43m.\u001b[49m\u001b[43maccept\u001b[49m\u001b[43m(\u001b[49m\u001b[38;5;28;43mself\u001b[39;49m\u001b[43m)\u001b[49m\n",
      "\u001b[36mFile \u001b[39m\u001b[32m~/miniconda3/envs/asparagus/lib/python3.12/site-packages/omegaconf/grammar/gen/OmegaConfGrammarParser.py:921\u001b[39m, in \u001b[36mOmegaConfGrammarParser.InterpolationNodeContext.accept\u001b[39m\u001b[34m(self, visitor)\u001b[39m\n\u001b[32m    919\u001b[39m \u001b[38;5;28;01mdef\u001b[39;00m\u001b[38;5;250m \u001b[39m\u001b[34maccept\u001b[39m(\u001b[38;5;28mself\u001b[39m, visitor:ParseTreeVisitor):\n\u001b[32m    920\u001b[39m     \u001b[38;5;28;01mif\u001b[39;00m \u001b[38;5;28mhasattr\u001b[39m( visitor, \u001b[33m\"\u001b[39m\u001b[33mvisitInterpolationNode\u001b[39m\u001b[33m\"\u001b[39m ):\n\u001b[32m--> \u001b[39m\u001b[32m921\u001b[39m         \u001b[38;5;28;01mreturn\u001b[39;00m \u001b[43mvisitor\u001b[49m\u001b[43m.\u001b[49m\u001b[43mvisitInterpolationNode\u001b[49m\u001b[43m(\u001b[49m\u001b[38;5;28;43mself\u001b[39;49m\u001b[43m)\u001b[49m\n\u001b[32m    922\u001b[39m     \u001b[38;5;28;01melse\u001b[39;00m:\n\u001b[32m    923\u001b[39m         \u001b[38;5;28;01mreturn\u001b[39;00m visitor.visitChildren(\u001b[38;5;28mself\u001b[39m)\n",
      "\u001b[36mFile \u001b[39m\u001b[32m~/miniconda3/envs/asparagus/lib/python3.12/site-packages/omegaconf/grammar_visitor.py:158\u001b[39m, in \u001b[36mGrammarVisitor.visitInterpolationNode\u001b[39m\u001b[34m(self, ctx)\u001b[39m\n\u001b[32m    155\u001b[39m         inter_key_tokens.append(\u001b[38;5;28mself\u001b[39m.visitConfigKey(child))\n\u001b[32m    157\u001b[39m inter_key = \u001b[33m\"\u001b[39m\u001b[33m\"\u001b[39m.join(inter_key_tokens)\n\u001b[32m--> \u001b[39m\u001b[32m158\u001b[39m \u001b[38;5;28;01mreturn\u001b[39;00m \u001b[38;5;28;43mself\u001b[39;49m\u001b[43m.\u001b[49m\u001b[43mnode_interpolation_callback\u001b[49m\u001b[43m(\u001b[49m\u001b[43minter_key\u001b[49m\u001b[43m,\u001b[49m\u001b[43m \u001b[49m\u001b[38;5;28;43mself\u001b[39;49m\u001b[43m.\u001b[49m\u001b[43mmemo\u001b[49m\u001b[43m)\u001b[49m\n",
      "\u001b[36mFile \u001b[39m\u001b[32m~/miniconda3/envs/asparagus/lib/python3.12/site-packages/omegaconf/base.py:745\u001b[39m, in \u001b[36mContainer.resolve_parse_tree.<locals>.node_interpolation_callback\u001b[39m\u001b[34m(inter_key, memo)\u001b[39m\n\u001b[32m    742\u001b[39m \u001b[38;5;28;01mdef\u001b[39;00m\u001b[38;5;250m \u001b[39m\u001b[34mnode_interpolation_callback\u001b[39m(\n\u001b[32m    743\u001b[39m     inter_key: \u001b[38;5;28mstr\u001b[39m, memo: Optional[Set[\u001b[38;5;28mint\u001b[39m]]\n\u001b[32m    744\u001b[39m ) -> Optional[\u001b[33m\"\u001b[39m\u001b[33mNode\u001b[39m\u001b[33m\"\u001b[39m]:\n\u001b[32m--> \u001b[39m\u001b[32m745\u001b[39m     \u001b[38;5;28;01mreturn\u001b[39;00m \u001b[38;5;28;43mself\u001b[39;49m\u001b[43m.\u001b[49m\u001b[43m_resolve_node_interpolation\u001b[49m\u001b[43m(\u001b[49m\u001b[43minter_key\u001b[49m\u001b[43m=\u001b[49m\u001b[43minter_key\u001b[49m\u001b[43m,\u001b[49m\u001b[43m \u001b[49m\u001b[43mmemo\u001b[49m\u001b[43m=\u001b[49m\u001b[43mmemo\u001b[49m\u001b[43m)\u001b[49m\n",
      "\u001b[36mFile \u001b[39m\u001b[32m~/miniconda3/envs/asparagus/lib/python3.12/site-packages/omegaconf/base.py:676\u001b[39m, in \u001b[36mContainer._resolve_node_interpolation\u001b[39m\u001b[34m(self, inter_key, memo)\u001b[39m\n\u001b[32m    671\u001b[39m     \u001b[38;5;28;01mraise\u001b[39;00m InterpolationToMissingValueError(\n\u001b[32m    672\u001b[39m         \u001b[33mf\u001b[39m\u001b[33m\"\u001b[39m\u001b[33mMissingMandatoryValue while resolving interpolation: \u001b[39m\u001b[38;5;132;01m{\u001b[39;00mexc\u001b[38;5;132;01m}\u001b[39;00m\u001b[33m\"\u001b[39m\n\u001b[32m    673\u001b[39m     ).with_traceback(sys.exc_info()[\u001b[32m2\u001b[39m])\n\u001b[32m    675\u001b[39m \u001b[38;5;28;01mif\u001b[39;00m parent \u001b[38;5;129;01mis\u001b[39;00m \u001b[38;5;28;01mNone\u001b[39;00m \u001b[38;5;129;01mor\u001b[39;00m value \u001b[38;5;129;01mis\u001b[39;00m \u001b[38;5;28;01mNone\u001b[39;00m:\n\u001b[32m--> \u001b[39m\u001b[32m676\u001b[39m     \u001b[38;5;28;01mraise\u001b[39;00m InterpolationKeyError(\u001b[33mf\u001b[39m\u001b[33m\"\u001b[39m\u001b[33mInterpolation key \u001b[39m\u001b[33m'\u001b[39m\u001b[38;5;132;01m{\u001b[39;00minter_key\u001b[38;5;132;01m}\u001b[39;00m\u001b[33m'\u001b[39m\u001b[33m not found\u001b[39m\u001b[33m\"\u001b[39m)\n\u001b[32m    677\u001b[39m \u001b[38;5;28;01melse\u001b[39;00m:\n\u001b[32m    678\u001b[39m     \u001b[38;5;28mself\u001b[39m._validate_not_dereferencing_to_parent(node=\u001b[38;5;28mself\u001b[39m, target=value)\n",
      "\u001b[31mInterpolationKeyError\u001b[39m: Interpolation key 'training.patch_size|length' not found\n    full_key: plugins.seg.model.dimensions\n    object_type=dict"
     ]
    }
   ],
   "source": [
    "cfg.plugins.seg.model.dimensions"
   ]
  },
  {
   "cell_type": "code",
   "execution_count": null,
   "id": "aee8bb60",
   "metadata": {},
   "outputs": [],
   "source": []
  }
 ],
 "metadata": {
  "kernelspec": {
   "display_name": "asparagus",
   "language": "python",
   "name": "python3"
  },
  "language_info": {
   "codemirror_mode": {
    "name": "ipython",
    "version": 3
   },
   "file_extension": ".py",
   "mimetype": "text/x-python",
   "name": "python",
   "nbconvert_exporter": "python",
   "pygments_lexer": "ipython3",
   "version": "3.12.9"
  }
 },
 "nbformat": 4,
 "nbformat_minor": 5
}
